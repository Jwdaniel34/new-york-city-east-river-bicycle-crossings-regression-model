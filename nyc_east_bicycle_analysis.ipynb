{
 "cells": [
  {
   "cell_type": "markdown",
   "id": "beb87a41-8a7b-4e82-8e95-7148c356fa2b",
   "metadata": {},
   "source": [
    "## 0. Import Data"
   ]
  },
  {
   "cell_type": "code",
   "execution_count": 15,
   "id": "571be633-d232-4f14-8ab0-b6cd6e1cef04",
   "metadata": {},
   "outputs": [],
   "source": [
    "import kagglehub\n",
    "import pandas as pd\n",
    "import sqlite3\n",
    "from pathlib import Path\n",
    "from pydantic import BaseModel, field_validator\n",
    "import numpy as np\n",
    "import seaborn as sns\n",
    "import datetime"
   ]
  },
  {
   "cell_type": "markdown",
   "id": "1dfc61c2-0302-4c9e-b472-81c2f4f32f98",
   "metadata": {},
   "source": [
    "## 1. Loading Data"
   ]
  },
  {
   "cell_type": "code",
   "execution_count": 7,
   "id": "d09d5293-df72-4636-a9ec-c12226953326",
   "metadata": {},
   "outputs": [
    {
     "name": "stdout",
     "output_type": "stream",
     "text": [
      "Path to dataset files: /Users/john/.cache/kagglehub/datasets/new-york-city/nyc-east-river-bicycle-crossings/versions/1\n",
      "Using Dataset: nyc-east-river-bicycle-counts.csv\n"
     ]
    }
   ],
   "source": [
    "import kagglehub\n",
    "\n",
    "# Download latest version\n",
    "path = kagglehub.dataset_download(\"new-york-city/nyc-east-river-bicycle-crossings\")\n",
    "print(\"Path to dataset files:\", path)\n",
    "dataset_dir = Path(path)\n",
    "csv_files = list(dataset_dir.glob(\"*.csv\"))\n",
    "if not csv_files:\n",
    "    raise FileNotFoundError(\"No CSV File found in the Kaggle Dataset\")\n",
    "csv_path = csv_files[0]\n",
    "print(f\"Using Dataset: {csv_path.name}\")"
   ]
  },
  {
   "cell_type": "code",
   "execution_count": 11,
   "id": "19ca3526-bd8c-4a69-92ef-0bb48723d547",
   "metadata": {},
   "outputs": [],
   "source": [
    "df_raw = pd.read_csv(csv_path, index_col=0 )"
   ]
  },
  {
   "cell_type": "code",
   "execution_count": 13,
   "id": "e363e41d-ca58-4f05-84c5-e95f319a4d9c",
   "metadata": {},
   "outputs": [
    {
     "data": {
      "text/html": [
       "<div>\n",
       "<style scoped>\n",
       "    .dataframe tbody tr th:only-of-type {\n",
       "        vertical-align: middle;\n",
       "    }\n",
       "\n",
       "    .dataframe tbody tr th {\n",
       "        vertical-align: top;\n",
       "    }\n",
       "\n",
       "    .dataframe thead th {\n",
       "        text-align: right;\n",
       "    }\n",
       "</style>\n",
       "<table border=\"1\" class=\"dataframe\">\n",
       "  <thead>\n",
       "    <tr style=\"text-align: right;\">\n",
       "      <th></th>\n",
       "      <th>Date</th>\n",
       "      <th>Day</th>\n",
       "      <th>High Temp (°F)</th>\n",
       "      <th>Low Temp (°F)</th>\n",
       "      <th>Precipitation</th>\n",
       "      <th>Brooklyn Bridge</th>\n",
       "      <th>Manhattan Bridge</th>\n",
       "      <th>Williamsburg Bridge</th>\n",
       "      <th>Queensboro Bridge</th>\n",
       "      <th>Total</th>\n",
       "    </tr>\n",
       "  </thead>\n",
       "  <tbody>\n",
       "    <tr>\n",
       "      <th>0</th>\n",
       "      <td>2016-04-01 00:00:00</td>\n",
       "      <td>2016-04-01 00:00:00</td>\n",
       "      <td>78.1</td>\n",
       "      <td>66.0</td>\n",
       "      <td>0.01</td>\n",
       "      <td>1704.0</td>\n",
       "      <td>3126</td>\n",
       "      <td>4115.0</td>\n",
       "      <td>2552.0</td>\n",
       "      <td>11497</td>\n",
       "    </tr>\n",
       "    <tr>\n",
       "      <th>1</th>\n",
       "      <td>2016-04-02 00:00:00</td>\n",
       "      <td>2016-04-02 00:00:00</td>\n",
       "      <td>55.0</td>\n",
       "      <td>48.9</td>\n",
       "      <td>0.15</td>\n",
       "      <td>827.0</td>\n",
       "      <td>1646</td>\n",
       "      <td>2565.0</td>\n",
       "      <td>1884.0</td>\n",
       "      <td>6922</td>\n",
       "    </tr>\n",
       "    <tr>\n",
       "      <th>2</th>\n",
       "      <td>2016-04-03 00:00:00</td>\n",
       "      <td>2016-04-03 00:00:00</td>\n",
       "      <td>39.9</td>\n",
       "      <td>34.0</td>\n",
       "      <td>0.09</td>\n",
       "      <td>526.0</td>\n",
       "      <td>1232</td>\n",
       "      <td>1695.0</td>\n",
       "      <td>1306.0</td>\n",
       "      <td>4759</td>\n",
       "    </tr>\n",
       "    <tr>\n",
       "      <th>3</th>\n",
       "      <td>2016-04-04 00:00:00</td>\n",
       "      <td>2016-04-04 00:00:00</td>\n",
       "      <td>44.1</td>\n",
       "      <td>33.1</td>\n",
       "      <td>0.47 (S)</td>\n",
       "      <td>521.0</td>\n",
       "      <td>1067</td>\n",
       "      <td>1440.0</td>\n",
       "      <td>1307.0</td>\n",
       "      <td>4335</td>\n",
       "    </tr>\n",
       "    <tr>\n",
       "      <th>4</th>\n",
       "      <td>2016-04-05 00:00:00</td>\n",
       "      <td>2016-04-05 00:00:00</td>\n",
       "      <td>42.1</td>\n",
       "      <td>26.1</td>\n",
       "      <td>0</td>\n",
       "      <td>1416.0</td>\n",
       "      <td>2617</td>\n",
       "      <td>3081.0</td>\n",
       "      <td>2357.0</td>\n",
       "      <td>9471</td>\n",
       "    </tr>\n",
       "  </tbody>\n",
       "</table>\n",
       "</div>"
      ],
      "text/plain": [
       "                  Date                  Day  High Temp (°F)  Low Temp (°F)  \\\n",
       "0  2016-04-01 00:00:00  2016-04-01 00:00:00            78.1           66.0   \n",
       "1  2016-04-02 00:00:00  2016-04-02 00:00:00            55.0           48.9   \n",
       "2  2016-04-03 00:00:00  2016-04-03 00:00:00            39.9           34.0   \n",
       "3  2016-04-04 00:00:00  2016-04-04 00:00:00            44.1           33.1   \n",
       "4  2016-04-05 00:00:00  2016-04-05 00:00:00            42.1           26.1   \n",
       "\n",
       "  Precipitation  Brooklyn Bridge  Manhattan Bridge  Williamsburg Bridge  \\\n",
       "0          0.01           1704.0              3126               4115.0   \n",
       "1          0.15            827.0              1646               2565.0   \n",
       "2          0.09            526.0              1232               1695.0   \n",
       "3      0.47 (S)            521.0              1067               1440.0   \n",
       "4             0           1416.0              2617               3081.0   \n",
       "\n",
       "   Queensboro Bridge  Total  \n",
       "0             2552.0  11497  \n",
       "1             1884.0   6922  \n",
       "2             1306.0   4759  \n",
       "3             1307.0   4335  \n",
       "4             2357.0   9471  "
      ]
     },
     "execution_count": 13,
     "metadata": {},
     "output_type": "execute_result"
    }
   ],
   "source": [
    "df_raw.head()"
   ]
  },
  {
   "cell_type": "code",
   "execution_count": 30,
   "id": "f813fb5b-b94a-45d1-ac38-5b66cab3a8f8",
   "metadata": {},
   "outputs": [
    {
     "data": {
      "text/plain": [
       "dtype('O')"
      ]
     },
     "execution_count": 30,
     "metadata": {},
     "output_type": "execute_result"
    }
   ],
   "source": [
    "df_raw.Precipitation.dtype"
   ]
  },
  {
   "cell_type": "code",
   "execution_count": 14,
   "id": "9ed24aff-8095-41ef-bf58-16f00fb9cc6a",
   "metadata": {},
   "outputs": [
    {
     "data": {
      "text/plain": [
       "dtype('O')"
      ]
     },
     "execution_count": 14,
     "metadata": {},
     "output_type": "execute_result"
    }
   ],
   "source": [
    "df_raw.Date.dtype"
   ]
  },
  {
   "cell_type": "markdown",
   "id": "4cc627fc-a242-45e3-94f1-5b9793406439",
   "metadata": {},
   "source": [
    "## 2. Preprocess Data"
   ]
  },
  {
   "cell_type": "code",
   "execution_count": 52,
   "id": "e6b0224e-ce3f-4877-bc05-67fc114dd664",
   "metadata": {},
   "outputs": [],
   "source": [
    "df_raw = df_raw.rename(columns= {\"High Temp (°F)\": \"HighTemp\",\n",
    "                                  \"Low Temp (°F)\" : \"LowTemp\",\n",
    "                                    \"Total\": \"Count\"})"
   ]
  },
  {
   "cell_type": "code",
   "execution_count": 53,
   "id": "5cfe1b8d-5fa9-478f-812c-c8db83cceef0",
   "metadata": {},
   "outputs": [
    {
     "data": {
      "text/plain": [
       "array([0.01, 0.15, 0.09, 0.47, 0.  , 0.2 , 0.16, 0.24, 0.05])"
      ]
     },
     "execution_count": 53,
     "metadata": {},
     "output_type": "execute_result"
    }
   ],
   "source": [
    "df_raw['Date'] = pd.to_datetime(df_raw['Date'])\n",
    "df_raw['Day'] = pd.to_datetime(df_raw['Day'])\n",
    "df_raw['Precipitation'].unique()"
   ]
  },
  {
   "cell_type": "code",
   "execution_count": 54,
   "id": "fc06ea6c-e228-49a2-aa7d-bc915daa852c",
   "metadata": {},
   "outputs": [],
   "source": [
    "def clean_precip_and_extract_tags(val):\n",
    "    if pd.isna(val):\n",
    "        return 0.0, 0, 0\n",
    "\n",
    "    val = str(val).strip()\n",
    "\n",
    "    # Set trace amounts and blanks to 0\n",
    "    if val == 'T' or val == '':\n",
    "        return 0.0, 0, 0\n",
    "\n",
    "    is_snow = int('(S)' in val) # if snow is in precipitation\n",
    "    is_rain = int('(R)' in val) # if rain is in precipitation\n",
    "\n",
    "    # Get numeric part (before any space or parenthesis)\n",
    "    numeric_part = val.split()[0]\n",
    "    \n",
    "    try:\n",
    "        precip_val = float(numeric_part)\n",
    "    except ValueError:\n",
    "        precip_val = 0.0  # fallback for weird formats\n",
    "\n",
    "    return precip_val, is_snow, is_rain\n",
    "\n",
    "# Apply function to your column\n",
    "df_raw[['Precipitation', 'is_snow', 'is_rain']] = df_raw['Precipitation'].apply(\n",
    "    clean_precip_and_extract_tags\n",
    ").apply(pd.Series)\n"
   ]
  },
  {
   "cell_type": "code",
   "execution_count": 56,
   "id": "36a4d52f-e0b1-42c7-9331-8b7bc9acce61",
   "metadata": {},
   "outputs": [],
   "source": [
    "df_raw['day_of_week'] = df_raw['Date'].dt.day_name()\n",
    "df_raw['month'] = df_raw['Date'].dt.month\n",
    "# binary precip\n",
    "df_raw['precip_bin'] = (df_raw['Precipitation'] > 0).astype(int)\n",
    "# maybe temp average\n",
    "df_raw['temp_avg'] = (df_raw['HighTemp'] + df_raw['LowTemp']) / 2"
   ]
  },
  {
   "cell_type": "code",
   "execution_count": 57,
   "id": "38d1088e-06e0-4d27-877c-a56e11a30a28",
   "metadata": {},
   "outputs": [
    {
     "data": {
      "text/html": [
       "<div>\n",
       "<style scoped>\n",
       "    .dataframe tbody tr th:only-of-type {\n",
       "        vertical-align: middle;\n",
       "    }\n",
       "\n",
       "    .dataframe tbody tr th {\n",
       "        vertical-align: top;\n",
       "    }\n",
       "\n",
       "    .dataframe thead th {\n",
       "        text-align: right;\n",
       "    }\n",
       "</style>\n",
       "<table border=\"1\" class=\"dataframe\">\n",
       "  <thead>\n",
       "    <tr style=\"text-align: right;\">\n",
       "      <th></th>\n",
       "      <th>Date</th>\n",
       "      <th>Day</th>\n",
       "      <th>HighTemp</th>\n",
       "      <th>LowTemp</th>\n",
       "      <th>Precipitation</th>\n",
       "      <th>Brooklyn Bridge</th>\n",
       "      <th>Manhattan Bridge</th>\n",
       "      <th>Williamsburg Bridge</th>\n",
       "      <th>Queensboro Bridge</th>\n",
       "      <th>Count</th>\n",
       "      <th>day_of_week</th>\n",
       "      <th>month</th>\n",
       "      <th>is_snow</th>\n",
       "      <th>is_rain</th>\n",
       "      <th>precip_bin</th>\n",
       "      <th>temp_avg</th>\n",
       "    </tr>\n",
       "  </thead>\n",
       "  <tbody>\n",
       "    <tr>\n",
       "      <th>0</th>\n",
       "      <td>2016-04-01</td>\n",
       "      <td>2016-04-01</td>\n",
       "      <td>78.1</td>\n",
       "      <td>66.0</td>\n",
       "      <td>0.01</td>\n",
       "      <td>1704.0</td>\n",
       "      <td>3126</td>\n",
       "      <td>4115.0</td>\n",
       "      <td>2552.0</td>\n",
       "      <td>11497</td>\n",
       "      <td>Friday</td>\n",
       "      <td>4</td>\n",
       "      <td>0.0</td>\n",
       "      <td>0.0</td>\n",
       "      <td>1</td>\n",
       "      <td>72.05</td>\n",
       "    </tr>\n",
       "    <tr>\n",
       "      <th>1</th>\n",
       "      <td>2016-04-02</td>\n",
       "      <td>2016-04-02</td>\n",
       "      <td>55.0</td>\n",
       "      <td>48.9</td>\n",
       "      <td>0.15</td>\n",
       "      <td>827.0</td>\n",
       "      <td>1646</td>\n",
       "      <td>2565.0</td>\n",
       "      <td>1884.0</td>\n",
       "      <td>6922</td>\n",
       "      <td>Saturday</td>\n",
       "      <td>4</td>\n",
       "      <td>0.0</td>\n",
       "      <td>0.0</td>\n",
       "      <td>1</td>\n",
       "      <td>51.95</td>\n",
       "    </tr>\n",
       "    <tr>\n",
       "      <th>2</th>\n",
       "      <td>2016-04-03</td>\n",
       "      <td>2016-04-03</td>\n",
       "      <td>39.9</td>\n",
       "      <td>34.0</td>\n",
       "      <td>0.09</td>\n",
       "      <td>526.0</td>\n",
       "      <td>1232</td>\n",
       "      <td>1695.0</td>\n",
       "      <td>1306.0</td>\n",
       "      <td>4759</td>\n",
       "      <td>Sunday</td>\n",
       "      <td>4</td>\n",
       "      <td>0.0</td>\n",
       "      <td>0.0</td>\n",
       "      <td>1</td>\n",
       "      <td>36.95</td>\n",
       "    </tr>\n",
       "    <tr>\n",
       "      <th>3</th>\n",
       "      <td>2016-04-04</td>\n",
       "      <td>2016-04-04</td>\n",
       "      <td>44.1</td>\n",
       "      <td>33.1</td>\n",
       "      <td>0.47</td>\n",
       "      <td>521.0</td>\n",
       "      <td>1067</td>\n",
       "      <td>1440.0</td>\n",
       "      <td>1307.0</td>\n",
       "      <td>4335</td>\n",
       "      <td>Monday</td>\n",
       "      <td>4</td>\n",
       "      <td>0.0</td>\n",
       "      <td>0.0</td>\n",
       "      <td>1</td>\n",
       "      <td>38.60</td>\n",
       "    </tr>\n",
       "    <tr>\n",
       "      <th>4</th>\n",
       "      <td>2016-04-05</td>\n",
       "      <td>2016-04-05</td>\n",
       "      <td>42.1</td>\n",
       "      <td>26.1</td>\n",
       "      <td>0.00</td>\n",
       "      <td>1416.0</td>\n",
       "      <td>2617</td>\n",
       "      <td>3081.0</td>\n",
       "      <td>2357.0</td>\n",
       "      <td>9471</td>\n",
       "      <td>Tuesday</td>\n",
       "      <td>4</td>\n",
       "      <td>0.0</td>\n",
       "      <td>0.0</td>\n",
       "      <td>0</td>\n",
       "      <td>34.10</td>\n",
       "    </tr>\n",
       "    <tr>\n",
       "      <th>...</th>\n",
       "      <td>...</td>\n",
       "      <td>...</td>\n",
       "      <td>...</td>\n",
       "      <td>...</td>\n",
       "      <td>...</td>\n",
       "      <td>...</td>\n",
       "      <td>...</td>\n",
       "      <td>...</td>\n",
       "      <td>...</td>\n",
       "      <td>...</td>\n",
       "      <td>...</td>\n",
       "      <td>...</td>\n",
       "      <td>...</td>\n",
       "      <td>...</td>\n",
       "      <td>...</td>\n",
       "      <td>...</td>\n",
       "    </tr>\n",
       "    <tr>\n",
       "      <th>205</th>\n",
       "      <td>2016-04-26</td>\n",
       "      <td>2016-04-26</td>\n",
       "      <td>60.1</td>\n",
       "      <td>46.9</td>\n",
       "      <td>0.24</td>\n",
       "      <td>1997.0</td>\n",
       "      <td>3520</td>\n",
       "      <td>4559.0</td>\n",
       "      <td>2929.0</td>\n",
       "      <td>13005</td>\n",
       "      <td>Tuesday</td>\n",
       "      <td>4</td>\n",
       "      <td>0.0</td>\n",
       "      <td>0.0</td>\n",
       "      <td>1</td>\n",
       "      <td>53.50</td>\n",
       "    </tr>\n",
       "    <tr>\n",
       "      <th>206</th>\n",
       "      <td>2016-04-27</td>\n",
       "      <td>2016-04-27</td>\n",
       "      <td>62.1</td>\n",
       "      <td>46.9</td>\n",
       "      <td>0.00</td>\n",
       "      <td>3343.0</td>\n",
       "      <td>5606</td>\n",
       "      <td>6577.0</td>\n",
       "      <td>4388.0</td>\n",
       "      <td>19914</td>\n",
       "      <td>Wednesday</td>\n",
       "      <td>4</td>\n",
       "      <td>0.0</td>\n",
       "      <td>0.0</td>\n",
       "      <td>0</td>\n",
       "      <td>54.50</td>\n",
       "    </tr>\n",
       "    <tr>\n",
       "      <th>207</th>\n",
       "      <td>2016-04-28</td>\n",
       "      <td>2016-04-28</td>\n",
       "      <td>57.9</td>\n",
       "      <td>48.0</td>\n",
       "      <td>0.00</td>\n",
       "      <td>2486.0</td>\n",
       "      <td>4152</td>\n",
       "      <td>5336.0</td>\n",
       "      <td>3657.0</td>\n",
       "      <td>15631</td>\n",
       "      <td>Thursday</td>\n",
       "      <td>4</td>\n",
       "      <td>0.0</td>\n",
       "      <td>0.0</td>\n",
       "      <td>0</td>\n",
       "      <td>52.95</td>\n",
       "    </tr>\n",
       "    <tr>\n",
       "      <th>208</th>\n",
       "      <td>2016-04-29</td>\n",
       "      <td>2016-04-29</td>\n",
       "      <td>57.0</td>\n",
       "      <td>46.9</td>\n",
       "      <td>0.05</td>\n",
       "      <td>2375.0</td>\n",
       "      <td>4178</td>\n",
       "      <td>5053.0</td>\n",
       "      <td>3348.0</td>\n",
       "      <td>14954</td>\n",
       "      <td>Friday</td>\n",
       "      <td>4</td>\n",
       "      <td>0.0</td>\n",
       "      <td>0.0</td>\n",
       "      <td>1</td>\n",
       "      <td>51.95</td>\n",
       "    </tr>\n",
       "    <tr>\n",
       "      <th>209</th>\n",
       "      <td>2016-04-30</td>\n",
       "      <td>2016-04-30</td>\n",
       "      <td>64.0</td>\n",
       "      <td>48.0</td>\n",
       "      <td>0.00</td>\n",
       "      <td>3199.0</td>\n",
       "      <td>4952</td>\n",
       "      <td>5675.0</td>\n",
       "      <td>3606.0</td>\n",
       "      <td>17432</td>\n",
       "      <td>Saturday</td>\n",
       "      <td>4</td>\n",
       "      <td>0.0</td>\n",
       "      <td>0.0</td>\n",
       "      <td>0</td>\n",
       "      <td>56.00</td>\n",
       "    </tr>\n",
       "  </tbody>\n",
       "</table>\n",
       "<p>210 rows × 16 columns</p>\n",
       "</div>"
      ],
      "text/plain": [
       "          Date        Day  HighTemp  LowTemp  Precipitation  Brooklyn Bridge  \\\n",
       "0   2016-04-01 2016-04-01      78.1     66.0           0.01           1704.0   \n",
       "1   2016-04-02 2016-04-02      55.0     48.9           0.15            827.0   \n",
       "2   2016-04-03 2016-04-03      39.9     34.0           0.09            526.0   \n",
       "3   2016-04-04 2016-04-04      44.1     33.1           0.47            521.0   \n",
       "4   2016-04-05 2016-04-05      42.1     26.1           0.00           1416.0   \n",
       "..         ...        ...       ...      ...            ...              ...   \n",
       "205 2016-04-26 2016-04-26      60.1     46.9           0.24           1997.0   \n",
       "206 2016-04-27 2016-04-27      62.1     46.9           0.00           3343.0   \n",
       "207 2016-04-28 2016-04-28      57.9     48.0           0.00           2486.0   \n",
       "208 2016-04-29 2016-04-29      57.0     46.9           0.05           2375.0   \n",
       "209 2016-04-30 2016-04-30      64.0     48.0           0.00           3199.0   \n",
       "\n",
       "     Manhattan Bridge  Williamsburg Bridge  Queensboro Bridge  Count  \\\n",
       "0                3126               4115.0             2552.0  11497   \n",
       "1                1646               2565.0             1884.0   6922   \n",
       "2                1232               1695.0             1306.0   4759   \n",
       "3                1067               1440.0             1307.0   4335   \n",
       "4                2617               3081.0             2357.0   9471   \n",
       "..                ...                  ...                ...    ...   \n",
       "205              3520               4559.0             2929.0  13005   \n",
       "206              5606               6577.0             4388.0  19914   \n",
       "207              4152               5336.0             3657.0  15631   \n",
       "208              4178               5053.0             3348.0  14954   \n",
       "209              4952               5675.0             3606.0  17432   \n",
       "\n",
       "    day_of_week  month  is_snow  is_rain  precip_bin  temp_avg  \n",
       "0        Friday      4      0.0      0.0           1     72.05  \n",
       "1      Saturday      4      0.0      0.0           1     51.95  \n",
       "2        Sunday      4      0.0      0.0           1     36.95  \n",
       "3        Monday      4      0.0      0.0           1     38.60  \n",
       "4       Tuesday      4      0.0      0.0           0     34.10  \n",
       "..          ...    ...      ...      ...         ...       ...  \n",
       "205     Tuesday      4      0.0      0.0           1     53.50  \n",
       "206   Wednesday      4      0.0      0.0           0     54.50  \n",
       "207    Thursday      4      0.0      0.0           0     52.95  \n",
       "208      Friday      4      0.0      0.0           1     51.95  \n",
       "209    Saturday      4      0.0      0.0           0     56.00  \n",
       "\n",
       "[210 rows x 16 columns]"
      ]
     },
     "execution_count": 57,
     "metadata": {},
     "output_type": "execute_result"
    }
   ],
   "source": [
    "df_raw"
   ]
  },
  {
   "cell_type": "markdown",
   "id": "a2b76271-059e-4e65-bb7a-6121dc7f46e6",
   "metadata": {},
   "source": [
    "\n",
    "## 3. EDA"
   ]
  },
  {
   "cell_type": "code",
   "execution_count": 58,
   "id": "ee9364fc-5399-49d3-bc29-7ada022950db",
   "metadata": {},
   "outputs": [],
   "source": [
    "# df_long = pd.melt(\n",
    "#     df_raw,\n",
    "#     id_vars=['Date', 'HighTemp', 'LowTemp', 'temp_avg', 'Precipitation', 'precip_bin', 'day_of_week', 'month'],  # keep these as-is\n",
    "#     value_vars=['Brooklyn Bridge', 'Manhattan Bridge', 'Williamsburg Bridge', 'Queensboro Bridge'],  # \"melt\" these\n",
    "#     var_name='Bridge',     # name of new column that holds the original column names\n",
    "#     value_name='Count'     # name of new column that holds the values\n",
    "# )\n"
   ]
  },
  {
   "cell_type": "code",
   "execution_count": 62,
   "id": "07b2502b-83d9-40b2-8dff-99ae8b2e7db6",
   "metadata": {},
   "outputs": [
    {
     "data": {
      "image/png": "[encoded data removed]",
      "text/plain": [
       "<Figure size 640x480 with 1 Axes>"
      ]
     },
     "metadata": {},
     "output_type": "display_data"
    }
   ],
   "source": [
    "import statsmodels.formula.api as smf\n",
    "import statsmodels.api as sm\n",
    "import matplotlib.pyplot as plt\n",
    "\n",
    "plt.scatter(df_raw['temp_avg'], df_raw['Count'])\n",
    "plt.xlabel(\"Avg Temperature\")\n",
    "plt.ylabel(\"Bicycle Count\")\n",
    "plt.show()"
   ]
  },
  {
   "cell_type": "code",
   "execution_count": 63,
   "id": "b02eb7bb-8441-4a5f-b5ee-37860a2ac697",
   "metadata": {},
   "outputs": [
    {
     "name": "stdout",
     "output_type": "stream",
     "text": [
      "                 Generalized Linear Model Regression Results                  \n",
      "==============================================================================\n",
      "Dep. Variable:                  Count   No. Observations:                  210\n",
      "Model:                            GLM   Df Residuals:                      201\n",
      "Model Family:                 Poisson   Df Model:                            8\n",
      "Link Function:                    Log   Scale:                          1.0000\n",
      "Method:                          IRLS   Log-Likelihood:                -49561.\n",
      "Date:                Fri, 17 Oct 2025   Deviance:                       96744.\n",
      "Time:                        17:34:03   Pearson chi2:                 9.72e+04\n",
      "No. Iterations:                     5   Pseudo R-squ. (CS):              1.000\n",
      "Covariance Type:            nonrobust                                         \n",
      "===============================================================================================\n",
      "                                  coef    std err          z      P>|z|      [0.025      0.975]\n",
      "-----------------------------------------------------------------------------------------------\n",
      "Intercept                       8.4624      0.005   1797.208      0.000       8.453       8.472\n",
      "C(day_of_week)[T.Monday]        0.0475      0.002     22.765      0.000       0.043       0.052\n",
      "C(day_of_week)[T.Saturday]     -0.1042      0.002    -48.868      0.000      -0.108      -0.100\n",
      "C(day_of_week)[T.Sunday]       -0.1365      0.002    -57.134      0.000      -0.141      -0.132\n",
      "C(day_of_week)[T.Thursday]      0.0548      0.002     25.715      0.000       0.051       0.059\n",
      "C(day_of_week)[T.Tuesday]       0.0255      0.002     11.581      0.000       0.021       0.030\n",
      "C(day_of_week)[T.Wednesday]     0.1759      0.002     77.658      0.000       0.171       0.180\n",
      "temp_avg                        0.0232   6.89e-05    336.318      0.000       0.023       0.023\n",
      "precip_bin                     -0.4766      0.001   -326.380      0.000      -0.479      -0.474\n",
      "===============================================================================================\n"
     ]
    }
   ],
   "source": [
    "formula = \"Count ~ temp_avg + precip_bin + C(day_of_week) + C(month)\"\n",
    "poisson_mod = smf.glm(formula=formula, data=df_raw, family=sm.families.Poisson()).fit()\n",
    "print(poisson_mod.summary())"
   ]
  },
  {
   "cell_type": "markdown",
   "id": "af3d3b60-1062-425c-aa01-e5f09bde7805",
   "metadata": {},
   "source": []
  },
  {
   "cell_type": "markdown",
   "id": "d31aed77-b346-4aab-9b8f-9c47bea39af7",
   "metadata": {},
   "source": [
    "## Summary:\n",
    "\n",
    "- Bike counts vary by day of week, with some days higher and some lower than Fridays.\n",
    "\n",
    "- Warmer days increase counts moderately.\n",
    "\n",
    "- Rain/snow strongly reduces counts.\n",
    "\n",
    "- The model fits well, but check for overdispersion next."
   ]
  },
  {
   "cell_type": "markdown",
   "id": "3bd5a976-126f-4af3-917f-8a86661a5a5e",
   "metadata": {},
   "source": [
    "## 5. check overdispersion"
   ]
  },
  {
   "cell_type": "code",
   "execution_count": 78,
   "id": "604713e9-2c2f-436f-ab1a-62e50afffaa2",
   "metadata": {},
   "outputs": [
    {
     "name": "stdout",
     "output_type": "stream",
     "text": [
      "Deviance / df: 481.3123245184402\n"
     ]
    }
   ],
   "source": [
    "deviance = poisson_mod.deviance\n",
    "df_resid = poisson_mod.df_resid\n",
    "print(\"Deviance / df:\", deviance / df_resid)"
   ]
  },
  {
   "cell_type": "markdown",
   "id": "14005f86-f5bf-4f3b-bab3-c6a9f8a19ce8",
   "metadata": {},
   "source": [
    "## 6. negative binomial"
   ]
  },
  {
   "cell_type": "code",
   "execution_count": 79,
   "id": "aef0e980-6a69-462a-a014-bfa865bad92c",
   "metadata": {},
   "outputs": [
    {
     "name": "stdout",
     "output_type": "stream",
     "text": [
      "                 Generalized Linear Model Regression Results                  \n",
      "==============================================================================\n",
      "Dep. Variable:                  Count   No. Observations:                  210\n",
      "Model:                            GLM   Df Residuals:                      201\n",
      "Model Family:        NegativeBinomial   Df Model:                            8\n",
      "Link Function:                    Log   Scale:                          1.0000\n",
      "Method:                          IRLS   Log-Likelihood:                -2206.9\n",
      "Date:                Fri, 17 Oct 2025   Deviance:                       8.5725\n",
      "Time:                        17:54:54   Pearson chi2:                     8.13\n",
      "No. Iterations:                     8   Pseudo R-squ. (CS):             0.1401\n",
      "Covariance Type:            nonrobust                                         \n",
      "===============================================================================================\n",
      "                                  coef    std err          z      P>|z|      [0.025      0.975]\n",
      "-----------------------------------------------------------------------------------------------\n",
      "Intercept                       8.3879      0.526     15.932      0.000       7.356       9.420\n",
      "C(day_of_week)[T.Monday]       -0.1086      0.257     -0.423      0.672      -0.611       0.394\n",
      "C(day_of_week)[T.Saturday]     -0.2670      0.242     -1.103      0.270      -0.742       0.208\n",
      "C(day_of_week)[T.Sunday]       -0.2800      0.277     -1.011      0.312      -0.823       0.263\n",
      "C(day_of_week)[T.Thursday]     -0.0800      0.263     -0.304      0.761      -0.596       0.436\n",
      "C(day_of_week)[T.Tuesday]      -0.0804      0.262     -0.307      0.759      -0.593       0.433\n",
      "C(day_of_week)[T.Wednesday]     0.0647      0.288      0.224      0.823      -0.500       0.630\n",
      "temp_avg                        0.0267      0.008      3.420      0.001       0.011       0.042\n",
      "precip_bin                     -0.4968      0.164     -3.035      0.002      -0.818      -0.176\n",
      "===============================================================================================\n"
     ]
    },
    {
     "name": "stderr",
     "output_type": "stream",
     "text": [
      "/Library/Frameworks/Python.framework/Versions/3.11/lib/python3.11/site-packages/statsmodels/genmod/families/family.py:1367: ValueWarning: Negative binomial dispersion parameter alpha not set. Using default value alpha=1.0.\n",
      "  warnings.warn(\"Negative binomial dispersion parameter alpha not \"\n"
     ]
    }
   ],
   "source": [
    "nb_mod = smf.glm(formula=formula, data=df_raw, family=sm.families.NegativeBinomial()).fit()\n",
    "print(nb_mod.summary())"
   ]
  },
  {
   "cell_type": "markdown",
   "id": "10d71c66-df16-42f7-895d-b8aea4508915",
   "metadata": {},
   "source": [
    "## 7. validation / forecasting"
   ]
  },
  {
   "cell_type": "code",
   "execution_count": 74,
   "id": "a0279215-5a97-4747-92c5-60fc67ad0bdf",
   "metadata": {},
   "outputs": [],
   "source": [
    "train = df_raw[df_raw['Date'] < '2017-08-01']\n",
    "test = df_raw[df_raw['Date'] <= '2017-08-01']\n",
    "mod_cv = smf.glm(formula=formula, data=train, family=sm.families.Poisson()).fit()\n",
    "pred = mod_cv.predict(test)\n",
    "# compare pred to test['Count'], compute MAE, RMSE, plot."
   ]
  },
  {
   "cell_type": "markdown",
   "id": "90077eb8-cf0b-48ea-8e48-56e0c43ef982",
   "metadata": {},
   "source": [
    "## # Save model"
   ]
  },
  {
   "cell_type": "code",
   "execution_count": 82,
   "id": "2249b6d8-e5fb-45c5-85da-b5a44f2bb2ee",
   "metadata": {},
   "outputs": [
    {
     "data": {
      "text/plain": [
       "['bike_model_nb.pkl']"
      ]
     },
     "execution_count": 82,
     "metadata": {},
     "output_type": "execute_result"
    }
   ],
   "source": [
    "import joblib\n",
    "joblib.dump(nb_mod, \"bike_model_nb.pkl\")"
   ]
  },
  {
   "cell_type": "code",
   "execution_count": null,
   "id": "eb7afb52-6d24-4b8f-bd81-de45ab082239",
   "metadata": {},
   "outputs": [],
   "source": []
  }
 ],
 "metadata": {
  "kernelspec": {
   "display_name": "Python 3 (ipykernel)",
   "language": "python",
   "name": "python3"
  },
  "language_info": {
   "codemirror_mode": {
    "name": "ipython",
    "version": 3
   },
   "file_extension": ".py",
   "mimetype": "text/x-python",
   "name": "python",
   "nbconvert_exporter": "python",
   "pygments_lexer": "ipython3",
   "version": "3.11.2"
  }
 },
 "nbformat": 4,
 "nbformat_minor": 5
}
